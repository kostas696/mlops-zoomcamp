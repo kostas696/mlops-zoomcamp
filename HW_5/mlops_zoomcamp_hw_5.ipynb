{
 "cells": [
  {
   "cell_type": "code",
   "execution_count": null,
   "metadata": {},
   "outputs": [],
   "source": [
    "%pip install evidently"
   ]
  },
  {
   "cell_type": "code",
   "execution_count": 44,
   "metadata": {},
   "outputs": [],
   "source": [
    "import requests\n",
    "import json\n",
    "import pandas as pd\n",
    "from tqdm import tqdm\n",
    "import matplotlib.pyplot as plt\n",
    "\n",
    "from evidently import ColumnMapping\n",
    "from evidently.report import Report\n",
    "from evidently.metrics import ColumnQuantileMetric\n",
    "from datetime import datetime\n",
    "\n",
    "from evidently.metrics import ColumnDriftMetric, DatasetDriftMetric, DatasetMissingValuesMetric\n",
    "\n",
    "from joblib import load, dump\n",
    "\n",
    "from sklearn.linear_model import LinearRegression\n",
    "from sklearn.metrics import mean_absolute_error, mean_absolute_percentage_error\n",
    "\n",
    "from evidently.metric_preset import DataDriftPreset, DataQualityPreset\n",
    "from evidently.ui.workspace import Workspace\n",
    "from evidently.ui.dashboards import DashboardPanelCounter, DashboardPanelPlot, CounterAgg, PanelValue, PlotType, ReportFilter\n",
    "from evidently.renderers.html_widgets import WidgetSize"
   ]
  },
  {
   "cell_type": "markdown",
   "metadata": {},
   "source": [
    "# Q1. Prepare the dataset"
   ]
  },
  {
   "cell_type": "code",
   "execution_count": 5,
   "metadata": {},
   "outputs": [
    {
     "name": "stdout",
     "output_type": "stream",
     "text": [
      "Downloading March 2024 Green Taxi data...\n"
     ]
    },
    {
     "name": "stderr",
     "output_type": "stream",
     "text": [
      "green_tripdata_2024-03.parquet: 100%|██████████| 1372372/1372372 [00:41<00:00, 32797.44it/s]\n"
     ]
    },
    {
     "data": {
      "text/html": [
       "<div>\n",
       "<style scoped>\n",
       "    .dataframe tbody tr th:only-of-type {\n",
       "        vertical-align: middle;\n",
       "    }\n",
       "\n",
       "    .dataframe tbody tr th {\n",
       "        vertical-align: top;\n",
       "    }\n",
       "\n",
       "    .dataframe thead th {\n",
       "        text-align: right;\n",
       "    }\n",
       "</style>\n",
       "<table border=\"1\" class=\"dataframe\">\n",
       "  <thead>\n",
       "    <tr style=\"text-align: right;\">\n",
       "      <th></th>\n",
       "      <th>VendorID</th>\n",
       "      <th>lpep_pickup_datetime</th>\n",
       "      <th>lpep_dropoff_datetime</th>\n",
       "      <th>store_and_fwd_flag</th>\n",
       "      <th>RatecodeID</th>\n",
       "      <th>PULocationID</th>\n",
       "      <th>DOLocationID</th>\n",
       "      <th>passenger_count</th>\n",
       "      <th>trip_distance</th>\n",
       "      <th>fare_amount</th>\n",
       "      <th>extra</th>\n",
       "      <th>mta_tax</th>\n",
       "      <th>tip_amount</th>\n",
       "      <th>tolls_amount</th>\n",
       "      <th>ehail_fee</th>\n",
       "      <th>improvement_surcharge</th>\n",
       "      <th>total_amount</th>\n",
       "      <th>payment_type</th>\n",
       "      <th>trip_type</th>\n",
       "      <th>congestion_surcharge</th>\n",
       "    </tr>\n",
       "  </thead>\n",
       "  <tbody>\n",
       "    <tr>\n",
       "      <th>0</th>\n",
       "      <td>2</td>\n",
       "      <td>2024-03-01 00:10:52</td>\n",
       "      <td>2024-03-01 00:26:12</td>\n",
       "      <td>N</td>\n",
       "      <td>1.0</td>\n",
       "      <td>129</td>\n",
       "      <td>226</td>\n",
       "      <td>1.0</td>\n",
       "      <td>1.72</td>\n",
       "      <td>12.8</td>\n",
       "      <td>1.0</td>\n",
       "      <td>0.5</td>\n",
       "      <td>3.06</td>\n",
       "      <td>0.0</td>\n",
       "      <td>NaN</td>\n",
       "      <td>1.0</td>\n",
       "      <td>18.36</td>\n",
       "      <td>1.0</td>\n",
       "      <td>1.0</td>\n",
       "      <td>0.00</td>\n",
       "    </tr>\n",
       "    <tr>\n",
       "      <th>1</th>\n",
       "      <td>2</td>\n",
       "      <td>2024-03-01 00:22:21</td>\n",
       "      <td>2024-03-01 00:35:15</td>\n",
       "      <td>N</td>\n",
       "      <td>1.0</td>\n",
       "      <td>130</td>\n",
       "      <td>218</td>\n",
       "      <td>1.0</td>\n",
       "      <td>3.25</td>\n",
       "      <td>17.7</td>\n",
       "      <td>1.0</td>\n",
       "      <td>0.5</td>\n",
       "      <td>0.00</td>\n",
       "      <td>0.0</td>\n",
       "      <td>NaN</td>\n",
       "      <td>1.0</td>\n",
       "      <td>20.20</td>\n",
       "      <td>2.0</td>\n",
       "      <td>1.0</td>\n",
       "      <td>0.00</td>\n",
       "    </tr>\n",
       "    <tr>\n",
       "      <th>2</th>\n",
       "      <td>2</td>\n",
       "      <td>2024-03-01 00:45:27</td>\n",
       "      <td>2024-03-01 01:04:32</td>\n",
       "      <td>N</td>\n",
       "      <td>1.0</td>\n",
       "      <td>255</td>\n",
       "      <td>107</td>\n",
       "      <td>2.0</td>\n",
       "      <td>4.58</td>\n",
       "      <td>23.3</td>\n",
       "      <td>1.0</td>\n",
       "      <td>0.5</td>\n",
       "      <td>3.50</td>\n",
       "      <td>0.0</td>\n",
       "      <td>NaN</td>\n",
       "      <td>1.0</td>\n",
       "      <td>32.05</td>\n",
       "      <td>1.0</td>\n",
       "      <td>1.0</td>\n",
       "      <td>2.75</td>\n",
       "    </tr>\n",
       "    <tr>\n",
       "      <th>3</th>\n",
       "      <td>1</td>\n",
       "      <td>2024-03-01 00:02:00</td>\n",
       "      <td>2024-03-01 00:23:45</td>\n",
       "      <td>N</td>\n",
       "      <td>1.0</td>\n",
       "      <td>181</td>\n",
       "      <td>71</td>\n",
       "      <td>1.0</td>\n",
       "      <td>0.00</td>\n",
       "      <td>22.5</td>\n",
       "      <td>0.0</td>\n",
       "      <td>1.5</td>\n",
       "      <td>0.00</td>\n",
       "      <td>0.0</td>\n",
       "      <td>NaN</td>\n",
       "      <td>1.0</td>\n",
       "      <td>24.00</td>\n",
       "      <td>1.0</td>\n",
       "      <td>1.0</td>\n",
       "      <td>0.00</td>\n",
       "    </tr>\n",
       "    <tr>\n",
       "      <th>4</th>\n",
       "      <td>2</td>\n",
       "      <td>2024-03-01 00:16:45</td>\n",
       "      <td>2024-03-01 00:23:25</td>\n",
       "      <td>N</td>\n",
       "      <td>1.0</td>\n",
       "      <td>95</td>\n",
       "      <td>135</td>\n",
       "      <td>1.0</td>\n",
       "      <td>1.15</td>\n",
       "      <td>8.6</td>\n",
       "      <td>1.0</td>\n",
       "      <td>0.5</td>\n",
       "      <td>1.00</td>\n",
       "      <td>0.0</td>\n",
       "      <td>NaN</td>\n",
       "      <td>1.0</td>\n",
       "      <td>12.10</td>\n",
       "      <td>1.0</td>\n",
       "      <td>1.0</td>\n",
       "      <td>0.00</td>\n",
       "    </tr>\n",
       "  </tbody>\n",
       "</table>\n",
       "</div>"
      ],
      "text/plain": [
       "   VendorID lpep_pickup_datetime lpep_dropoff_datetime store_and_fwd_flag  \\\n",
       "0         2  2024-03-01 00:10:52   2024-03-01 00:26:12                  N   \n",
       "1         2  2024-03-01 00:22:21   2024-03-01 00:35:15                  N   \n",
       "2         2  2024-03-01 00:45:27   2024-03-01 01:04:32                  N   \n",
       "3         1  2024-03-01 00:02:00   2024-03-01 00:23:45                  N   \n",
       "4         2  2024-03-01 00:16:45   2024-03-01 00:23:25                  N   \n",
       "\n",
       "   RatecodeID  PULocationID  DOLocationID  passenger_count  trip_distance  \\\n",
       "0         1.0           129           226              1.0           1.72   \n",
       "1         1.0           130           218              1.0           3.25   \n",
       "2         1.0           255           107              2.0           4.58   \n",
       "3         1.0           181            71              1.0           0.00   \n",
       "4         1.0            95           135              1.0           1.15   \n",
       "\n",
       "   fare_amount  extra  mta_tax  tip_amount  tolls_amount  ehail_fee  \\\n",
       "0         12.8    1.0      0.5        3.06           0.0        NaN   \n",
       "1         17.7    1.0      0.5        0.00           0.0        NaN   \n",
       "2         23.3    1.0      0.5        3.50           0.0        NaN   \n",
       "3         22.5    0.0      1.5        0.00           0.0        NaN   \n",
       "4          8.6    1.0      0.5        1.00           0.0        NaN   \n",
       "\n",
       "   improvement_surcharge  total_amount  payment_type  trip_type  \\\n",
       "0                    1.0         18.36           1.0        1.0   \n",
       "1                    1.0         20.20           2.0        1.0   \n",
       "2                    1.0         32.05           1.0        1.0   \n",
       "3                    1.0         24.00           1.0        1.0   \n",
       "4                    1.0         12.10           1.0        1.0   \n",
       "\n",
       "   congestion_surcharge  \n",
       "0                  0.00  \n",
       "1                  0.00  \n",
       "2                  2.75  \n",
       "3                  0.00  \n",
       "4                  0.00  "
      ]
     },
     "execution_count": 5,
     "metadata": {},
     "output_type": "execute_result"
    }
   ],
   "source": [
    "# Download the March 2024 Green Taxi data\n",
    "url = \"https://d37ci6vzurychx.cloudfront.net/trip-data/green_tripdata_2024-03.parquet\"\n",
    "save_path = r\"C:\\Users\\User\\mlops-zoomcamp\\HW_5\\green_tripdata_2024-03.parquet\"\n",
    "\n",
    "print(\"Downloading March 2024 Green Taxi data...\")\n",
    "resp = requests.get(url, stream=True)\n",
    "with open(save_path, \"wb\") as handle:\n",
    "    for data in tqdm(resp.iter_content(), desc=\"green_tripdata_2024-03.parquet\", total=int(resp.headers[\"Content-Length\"])):\n",
    "        handle.write(data)\n",
    "\n",
    "# Load the dataset\n",
    "march_data = pd.read_parquet(save_path)\n",
    "march_data.head()"
   ]
  },
  {
   "cell_type": "code",
   "execution_count": 6,
   "metadata": {},
   "outputs": [
    {
     "name": "stdout",
     "output_type": "stream",
     "text": [
      "Shape of the dataset: (57457, 20)\n",
      "Number of rows: 57457\n"
     ]
    }
   ],
   "source": [
    "# Print the shape of the dataset\n",
    "print(\"Shape of the dataset:\", march_data.shape)\n",
    "print(\"Number of rows:\", march_data.shape[0])"
   ]
  },
  {
   "cell_type": "markdown",
   "metadata": {},
   "source": [
    "# Q2. Metric"
   ]
  },
  {
   "cell_type": "markdown",
   "metadata": {},
   "source": [
    "The metric we can choose is \"ColumnCorrelationsMetric\" to monitor correlations between numerical features and the target variable."
   ]
  },
  {
   "cell_type": "markdown",
   "metadata": {},
   "source": [
    "# Q3. Monitoring"
   ]
  },
  {
   "cell_type": "code",
   "execution_count": 15,
   "metadata": {},
   "outputs": [
    {
     "data": {
      "text/plain": [
       "<Axes: >"
      ]
     },
     "execution_count": 15,
     "metadata": {},
     "output_type": "execute_result"
    },
    {
     "data": {
      "image/png": "[encoded data removed]",
      "text/plain": [
       "<Figure size 640x480 with 1 Axes>"
      ]
     },
     "metadata": {},
     "output_type": "display_data"
    }
   ],
   "source": [
    "# Preprocess the data\n",
    "march_data[\"duration_min\"] = (march_data.lpep_dropoff_datetime - march_data.lpep_pickup_datetime).apply(lambda td: float(td.total_seconds()) / 60)\n",
    "\n",
    "#  out outliers\n",
    "march_data = march_data[(march_data.duration_min >= 0) & (march_data.duration_min <= 60)]\n",
    "march_data = march_data[(march_data.passenger_count > 0) & (march_data.passenger_count <= 8)]\n",
    "\n",
    "march_data.duration_min.hist()"
   ]
  },
  {
   "cell_type": "code",
   "execution_count": 18,
   "metadata": {},
   "outputs": [],
   "source": [
    "# Create target and feature sets\n",
    "target = \"duration_min\"\n",
    "num_features = [\"passenger_count\", \"trip_distance\", \"fare_amount\", \"total_amount\"]\n",
    "cat_features = [\"PULocationID\", \"DOLocationID\"]\n",
    "\n",
    "# Split data into train and validation sets\n",
    "train_data = march_data[:30000]\n",
    "val_data = march_data[30000:]\n",
    "\n",
    "# Train a simple model\n",
    "model = LinearRegression()\n",
    "model.fit(train_data[num_features + cat_features], train_data[target])\n",
    "\n",
    "# Make predictions\n",
    "train_preds = model.predict(train_data[num_features + cat_features])\n",
    "train_data['prediction'] = train_preds\n",
    "val_preds = model.predict(val_data[num_features + cat_features])\n",
    "val_data['prediction'] = val_preds"
   ]
  },
  {
   "cell_type": "code",
   "execution_count": 19,
   "metadata": {},
   "outputs": [],
   "source": [
    "# Dump model and reference data\n",
    "with open(r'C:\\Users\\User\\mlops-zoomcamp\\HW_5\\models\\lin_reg.bin', 'wb') as f_out:\n",
    "    dump(model, f_out)\n",
    "val_data.to_parquet(r'C:\\Users\\User\\mlops-zoomcamp\\HW_5\\reference.parquet')"
   ]
  },
  {
   "cell_type": "code",
   "execution_count": 31,
   "metadata": {},
   "outputs": [],
   "source": [
    "# Evidently ColumnMapping and Report setup\n",
    "column_mapping = ColumnMapping(\n",
    "    target=None,\n",
    "    prediction='prediction',\n",
    "    numerical_features=num_features,\n",
    "    categorical_features=cat_features\n",
    ")"
   ]
  },
  {
   "cell_type": "code",
   "execution_count": 40,
   "metadata": {},
   "outputs": [
    {
     "name": "stdout",
     "output_type": "stream",
     "text": [
      "Maximum value of the 0.5 quantile for fare_amount during March 2024: 14.2\n"
     ]
    }
   ],
   "source": [
    "# Ensure datetime column is in the correct format\n",
    "march_data['lpep_pickup_datetime'] = pd.to_datetime(march_data['lpep_pickup_datetime'])\n",
    "march_data['day'] = march_data['lpep_pickup_datetime'].dt.date\n",
    "\n",
    "# Filter data to include only dates within March 2024\n",
    "start_date = pd.to_datetime('2024-03-01').date()\n",
    "end_date = pd.to_datetime('2024-03-31').date()\n",
    "march_data = march_data[(march_data['day'] >= start_date) & (march_data['day'] <= end_date)]\n",
    "\n",
    "# Create an empty list to store quantile values\n",
    "quantile_values = []\n",
    "\n",
    "# Get unique days within March 2024\n",
    "unique_days = march_data['day'].unique()\n",
    "\n",
    "# Run Evidently reports for each unique day and store the quantile values\n",
    "for day in unique_days:\n",
    "    day_data = march_data[march_data['day'] == day]\n",
    "    report = Report(metrics=[\n",
    "        ColumnQuantileMetric(column_name='fare_amount', quantile=0.5)\n",
    "    ])\n",
    "    report.run(reference_data=march_data, current_data=day_data, column_mapping=column_mapping)\n",
    "    quantile_result = report.as_dict()['metrics'][0]['result']['current']['value']\n",
    "    quantile_values.append(quantile_result)\n",
    "\n",
    "# Find the maximum quantile value\n",
    "max_quantile_value = max(quantile_values)\n",
    "print(\"Maximum value of the 0.5 quantile for fare_amount during March 2024:\", max_quantile_value)"
   ]
  },
  {
   "cell_type": "markdown",
   "metadata": {},
   "source": [
    "# Q4. Dashboard"
   ]
  },
  {
   "cell_type": "markdown",
   "metadata": {},
   "source": [
    "To save the dashboard configuration file we use in the project_folder/config (05-monitoring/config) directory. In our case this is HW_5/config"
   ]
  },
  {
   "cell_type": "code",
   "execution_count": 42,
   "metadata": {},
   "outputs": [
    {
     "data": {
      "text/plain": [
       "Project(id=UUID('d965b7bb-1afa-4806-8d65-be3af8ada85d'), name='NYC Taxi Data Quality Project', description='My project description', dashboard=DashboardConfig(name='NYC Taxi Data Quality Project', panels=[DashboardPanelCounter(type='evidently.ui.dashboards.reports.DashboardPanelCounter', id=UUID('f9d55af2-96e1-4dcd-8db5-903e421d0207'), title='NYC Taxi Data Dashboard', filter=ReportFilter(metadata_values={}, tag_values=[], include_test_suites=False), size=<WidgetSize.FULL: 2>, agg=<CounterAgg.NONE: 'none'>, value=None, text=None), DashboardPanelPlot(type='evidently.ui.dashboards.reports.DashboardPanelPlot', id=UUID('095ffda4-8e27-4846-8cd0-e2fe37ee41a3'), title='Inference Count', filter=ReportFilter(metadata_values={}, tag_values=[], include_test_suites=False), size=<WidgetSize.HALF: 1>, values=[PanelValue(field_path='current.number_of_rows', metric_id='DatasetSummaryMetric', metric_fingerprint=None, metric_args={}, legend='count')], plot_type=<PlotType.BAR: 'bar'>), DashboardPanelPlot(type='evidently.ui.dashboards.reports.DashboardPanelPlot', id=UUID('ba21a22f-fdef-464c-9df1-68f8a8035ea4'), title='Number of Missing Values', filter=ReportFilter(metadata_values={}, tag_values=[], include_test_suites=False), size=<WidgetSize.HALF: 1>, values=[PanelValue(field_path='current.number_of_missing_values', metric_id='DatasetSummaryMetric', metric_fingerprint=None, metric_args={}, legend='count')], plot_type=<PlotType.LINE: 'line'>), DashboardPanelPlot(type='evidently.ui.dashboards.reports.DashboardPanelPlot', id=UUID('f3906600-bc75-4b61-8f04-0d651867b1cb'), title='Fare Amount Median (0.5 Quantile)', filter=ReportFilter(metadata_values={}, tag_values=[], include_test_suites=False), size=<WidgetSize.HALF: 1>, values=[PanelValue(field_path='current.value', metric_id='ColumnQuantileMetric', metric_fingerprint=None, metric_args={}, legend='median')], plot_type=<PlotType.LINE: 'line'>)], tabs=[], tab_id_to_panel_ids={}), team_id=None, date_from=None, date_to=None, created_at=datetime.datetime(2024, 6, 23, 14, 28, 26, 207714))"
      ]
     },
     "execution_count": 42,
     "metadata": {},
     "output_type": "execute_result"
    }
   ],
   "source": [
    "# Initialize workspace\n",
    "ws = Workspace(\"workspace\")\n",
    "project = ws.create_project(\"NYC Taxi Data Quality Project\")\n",
    "project.description = \"My project description\"\n",
    "project.save()\n",
    "\n",
    "# Add metrics to the report\n",
    "regular_report = Report(\n",
    "    metrics=[\n",
    "        DataQualityPreset()\n",
    "    ],\n",
    "    timestamp=datetime(2024, 3, 1)\n",
    ")\n",
    "\n",
    "# Run report on current data\n",
    "regular_report.run(reference_data=None,\n",
    "                  current_data=march_data,\n",
    "                  column_mapping=column_mapping)\n",
    "\n",
    "# Add report to the project\n",
    "ws.add_report(project.id, regular_report)\n",
    "\n",
    "# Configure the dashboard\n",
    "project.dashboard.add_panel(\n",
    "    DashboardPanelCounter(\n",
    "        filter=ReportFilter(metadata_values={}, tag_values=[]),\n",
    "        agg=CounterAgg.NONE,\n",
    "        title=\"NYC Taxi Data Dashboard\"\n",
    "    )\n",
    ")\n",
    "\n",
    "project.dashboard.add_panel(\n",
    "    DashboardPanelPlot(\n",
    "        filter=ReportFilter(metadata_values={}, tag_values=[]),\n",
    "        title=\"Inference Count\",\n",
    "        values=[\n",
    "            PanelValue(\n",
    "                metric_id=\"DatasetSummaryMetric\",\n",
    "                field_path=\"current.number_of_rows\",\n",
    "                legend=\"count\"\n",
    "            ),\n",
    "        ],\n",
    "        plot_type=PlotType.BAR,\n",
    "        size=WidgetSize.HALF,\n",
    "    ),\n",
    ")\n",
    "\n",
    "project.dashboard.add_panel(\n",
    "    DashboardPanelPlot(\n",
    "        filter=ReportFilter(metadata_values={}, tag_values=[]),\n",
    "        title=\"Number of Missing Values\",\n",
    "        values=[\n",
    "            PanelValue(\n",
    "                metric_id=\"DatasetSummaryMetric\",\n",
    "                field_path=\"current.number_of_missing_values\",\n",
    "                legend=\"count\"\n",
    "            ),\n",
    "        ],\n",
    "        plot_type=PlotType.LINE,\n",
    "        size=WidgetSize.HALF,\n",
    "    ),\n",
    ")\n",
    "\n",
    "project.dashboard.add_panel(\n",
    "    DashboardPanelPlot(\n",
    "        filter=ReportFilter(metadata_values={}, tag_values=[]),\n",
    "        title=\"Fare Amount Median (0.5 Quantile)\",\n",
    "        values=[\n",
    "            PanelValue(\n",
    "                metric_id=\"ColumnQuantileMetric\",\n",
    "                field_path=\"current.value\",\n",
    "                legend=\"median\"\n",
    "            ),\n",
    "        ],\n",
    "        plot_type=PlotType.LINE,\n",
    "        size=WidgetSize.HALF,\n",
    "    ),\n",
    ")\n",
    "\n",
    "project.save()"
   ]
  },
  {
   "cell_type": "code",
   "execution_count": 48,
   "metadata": {},
   "outputs": [],
   "source": [
    "# Extract the configuration details manually\n",
    "dashboard_config = {\n",
    "    'project_id': str(project.id),\n",
    "    'project_name': project.name,\n",
    "    'project_description': project.description,\n",
    "    'dashboard': {\n",
    "        'panels': [\n",
    "            {\n",
    "                'type': 'counter',\n",
    "                'title': 'NYC Taxi Data Dashboard',\n",
    "                'agg': 'none',\n",
    "                'size': 'full'\n",
    "            },\n",
    "            {\n",
    "                'type': 'plot',\n",
    "                'title': 'Inference Count',\n",
    "                'metric_id': 'DatasetSummaryMetric',\n",
    "                'field_path': 'current.number_of_rows',\n",
    "                'legend': 'count',\n",
    "                'plot_type': 'bar',\n",
    "                'size': 'half'\n",
    "            },\n",
    "            {\n",
    "                'type': 'plot',\n",
    "                'title': 'Number of Missing Values',\n",
    "                'metric_id': 'DatasetSummaryMetric',\n",
    "                'field_path': 'current.number_of_missing_values',\n",
    "                'legend': 'count',\n",
    "                'plot_type': 'line',\n",
    "                'size': 'half'\n",
    "            },\n",
    "            {\n",
    "                'type': 'plot',\n",
    "                'title': 'Fare Amount Median (0.5 Quantile)',\n",
    "                'metric_id': 'ColumnQuantileMetric',\n",
    "                'field_path': 'current.value',\n",
    "                'legend': 'median',\n",
    "                'plot_type': 'line',\n",
    "                'size': 'half'\n",
    "            }\n",
    "        ]\n",
    "    }\n",
    "}"
   ]
  },
  {
   "cell_type": "code",
   "execution_count": 51,
   "metadata": {},
   "outputs": [
    {
     "name": "stdout",
     "output_type": "stream",
     "text": [
      "Dashboard configuration saved to C:\\Users\\User\\mlops-zoomcamp\\HW_5\\config\\dashboard_config.json\n"
     ]
    }
   ],
   "source": [
    "# Save the dashboard configuration to a JSON file\n",
    "config_path = \"C:\\\\Users\\\\User\\\\mlops-zoomcamp\\\\HW_5\\\\config\\\\dashboard_config.json\"\n",
    "\n",
    "with open(config_path, \"w\") as f:\n",
    "    json.dump(dashboard_config, f, indent=4)\n",
    "\n",
    "print(f\"Dashboard configuration saved to {config_path}\")"
   ]
  }
 ],
 "metadata": {
  "kernelspec": {
   "display_name": "base",
   "language": "python",
   "name": "python3"
  },
  "language_info": {
   "codemirror_mode": {
    "name": "ipython",
    "version": 3
   },
   "file_extension": ".py",
   "mimetype": "text/x-python",
   "name": "python",
   "nbconvert_exporter": "python",
   "pygments_lexer": "ipython3",
   "version": "3.12.3"
  }
 },
 "nbformat": 4,
 "nbformat_minor": 2
}
